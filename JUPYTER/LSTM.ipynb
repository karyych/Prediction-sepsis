{
 "cells": [
  {
   "cell_type": "code",
   "execution_count": null,
   "metadata": {},
   "outputs": [],
   "source": [
    "# Импорт библиотек\n",
    "import numpy as np\n",
    "import pandas as pd\n",
    "from sklearn.model_selection import train_test_split\n",
    "from sklearn.preprocessing import MinMaxScaler\n",
    "from tensorflow.keras.layers import LSTM, Dense, Dropout\n",
    "from tensorflow.keras.models import Sequential"
   ]
  },
  {
   "cell_type": "code",
   "execution_count": null,
   "metadata": {},
   "outputs": [],
   "source": [
    "df = pd.read_csv(\"Datasets\\\\sepsis-diagnoses.xls\")"
   ]
  },
  {
   "cell_type": "code",
   "execution_count": null,
   "metadata": {},
   "outputs": [],
   "source": [
    "df.info()"
   ]
  },
  {
   "cell_type": "code",
   "execution_count": null,
   "metadata": {},
   "outputs": [],
   "source": [
    "df.head(10)"
   ]
  },
  {
   "cell_type": "code",
   "execution_count": null,
   "metadata": {},
   "outputs": [],
   "source": [
    "# Выбор нужных признаков\n",
    "selected_features = [\n",
    "    \"HR\",\n",
    "    \"O2Sat\",\n",
    "    \"Temp\",\n",
    "    \"MAP\",\n",
    "    \"Resp\",\n",
    "    \"Glucose\",\n",
    "    \"Lactate\",\n",
    "    \"WBC\",\n",
    "    \"Hgb\",\n",
    "    \"Platelets\",\n",
    "    \"Age\",\n",
    "    \"Gender\",\n",
    "    \"SepsisLabel\",\n",
    "]"
   ]
  },
  {
   "cell_type": "code",
   "execution_count": null,
   "metadata": {},
   "outputs": [],
   "source": [
    "# Отбор нужных признаков из данных\n",
    "data_selected = df[selected_features]"
   ]
  },
  {
   "cell_type": "code",
   "execution_count": null,
   "metadata": {},
   "outputs": [],
   "source": [
    "# Преобразование данных в массив NumPy\n",
    "data_array = data_selected.values"
   ]
  },
  {
   "cell_type": "code",
   "execution_count": null,
   "metadata": {},
   "outputs": [],
   "source": [
    "# Масштабирование данных\n",
    "scaler = MinMaxScaler()\n",
    "scaled_data = scaler.fit_transform(data_array)"
   ]
  },
  {
   "cell_type": "code",
   "execution_count": null,
   "metadata": {},
   "outputs": [],
   "source": [
    "# Разделение данных на признаки (X) и целевую переменную (y)\n",
    "X = scaled_data[:, :-1]  # Признаки\n",
    "y = scaled_data[:, -1]  # Целевая переменная"
   ]
  },
  {
   "cell_type": "code",
   "execution_count": null,
   "metadata": {},
   "outputs": [],
   "source": [
    "# Разделение данных на обучающий и тестовый наборы\n",
    "X_train, X_test, y_train, y_test = train_test_split(\n",
    "    X, y, test_size=0.2, shuffle=False\n",
    ")  # Пример разделения на 80% обучающих данных и 20% тестовых данных"
   ]
  },
  {
   "cell_type": "code",
   "execution_count": null,
   "metadata": {},
   "outputs": [],
   "source": [
    "# Преобразование данных для модели LSTM\n",
    "def prepare_data_for_lstm(data, history_size):\n",
    "    features = []\n",
    "    labels = []\n",
    "    for i in range(len(data) - history_size):\n",
    "        features.append(data[i : i + history_size, :])\n",
    "        labels.append(data[i + history_size, -1])\n",
    "    return np.array(features), np.array(labels)"
   ]
  },
  {
   "cell_type": "code",
   "execution_count": null,
   "metadata": {},
   "outputs": [],
   "source": [
    "# Параметры модели и обучения\n",
    "history_size = 50  # Длина истории (количество временных точек в прошлом)\n",
    "batch_size = 64\n",
    "epochs = 10"
   ]
  },
  {
   "cell_type": "code",
   "execution_count": null,
   "metadata": {},
   "outputs": [],
   "source": [
    "# Подготовка данных для обучения модели LSTM\n",
    "x_train_lstm, y_train_lstm = prepare_data_for_lstm(X_train, history_size)\n",
    "x_test_lstm, y_test_lstm = prepare_data_for_lstm(X_test, history_size)"
   ]
  },
  {
   "cell_type": "code",
   "execution_count": null,
   "metadata": {},
   "outputs": [],
   "source": [
    "# Создание модели LSTM\n",
    "model_lstm = Sequential(\n",
    "    [\n",
    "        LSTM(\n",
    "            64,\n",
    "            input_shape=(x_train_lstm.shape[1], x_train_lstm.shape[2]),\n",
    "            return_sequences=True,\n",
    "        ),\n",
    "        Dropout(0.2),\n",
    "        LSTM(64),\n",
    "        Dense(1),\n",
    "    ]\n",
    ")"
   ]
  },
  {
   "cell_type": "code",
   "execution_count": null,
   "metadata": {},
   "outputs": [],
   "source": [
    "# Компиляция модели LSTM\n",
    "model_lstm.compile(optimizer=\"adam\", loss=\"mse\")"
   ]
  },
  {
   "cell_type": "code",
   "execution_count": null,
   "metadata": {},
   "outputs": [],
   "source": [
    "# Обучение модели LSTM\n",
    "history_lstm = model_lstm.fit(\n",
    "    x_train_lstm,\n",
    "    y_train_lstm,\n",
    "    epochs=epochs,\n",
    "    batch_size=batch_size,\n",
    "    validation_data=(x_test_lstm, y_test_lstm),\n",
    ")"
   ]
  },
  {
   "cell_type": "code",
   "execution_count": null,
   "metadata": {},
   "outputs": [],
   "source": [
    "# Оценка модели LSTM\n",
    "test_loss_lstm = model_lstm.evaluate(x_test_lstm, y_test_lstm)\n",
    "print(\"Test Loss LSTM:\", test_loss_lstm)"
   ]
  },
  {
   "cell_type": "code",
   "execution_count": null,
   "metadata": {},
   "outputs": [],
   "source": [
    "from sklearn.metrics import r2_score\n",
    "\n",
    "# Оценка модели LSTM\n",
    "test_loss_lstm = model_lstm.evaluate(x_test_lstm, y_test_lstm)\n",
    "print(\"Test Loss LSTM:\", test_loss_lstm)\n",
    "\n",
    "# Прогнозирование на тестовых данных\n",
    "y_pred_lstm = model_lstm.predict(x_test_lstm)\n",
    "\n",
    "# Вычисление R2 score\n",
    "r2_score_lstm = r2_score(y_test_lstm, y_pred_lstm)\n",
    "print(\"R2 Score LSTM:\", r2_score_lstm)"
   ]
  },
  {
   "cell_type": "code",
   "execution_count": null,
   "metadata": {},
   "outputs": [],
   "source": [
    "from sklearn.metrics import mean_absolute_error, mean_squared_error, r2_score\n",
    "\n",
    "# Оценка модели LSTM\n",
    "test_loss_lstm = model_lstm.evaluate(x_test_lstm, y_test_lstm)\n",
    "print(\"Test Loss LSTM:\", test_loss_lstm)\n",
    "\n",
    "# Прогнозирование на тестовых данных\n",
    "y_pred_lstm = model_lstm.predict(x_test_lstm)\n",
    "\n",
    "# Вычисление MAE\n",
    "mae_lstm = mean_absolute_error(y_test_lstm, y_pred_lstm)\n",
    "print(\"MAE LSTM:\", mae_lstm)\n",
    "\n",
    "# Вычисление MSE\n",
    "mse_lstm = mean_squared_error(y_test_lstm, y_pred_lstm)\n",
    "print(\"MSE LSTM:\", mse_lstm)\n",
    "\n",
    "# Вычисление R2 score\n",
    "r2_score_lstm = r2_score(y_test_lstm, y_pred_lstm)\n",
    "print(\"R2 Score LSTM:\", r2_score_lstm)"
   ]
  },
  {
   "cell_type": "code",
   "execution_count": null,
   "metadata": {},
   "outputs": [],
   "source": [
    "# ROC AUC\n",
    "roc_auc_lstm = roc_auc_score(y_test_lstm, y_pred_lstm)\n",
    "\n",
    "# Построение ROC кривой\n",
    "fpr_lstm, tpr_lstm, thresholds_lstm = roc_curve(y_test_lstm, y_pred_lstm)\n",
    "plt.figure(figsize=(8, 6))\n",
    "plt.plot(fpr_lstm, tpr_lstm, label=f\"ROC AUC = {roc_auc_lstm:.2f}\")\n",
    "plt.plot([0, 1], [0, 1], linestyle=\"--\", color=\"red\")\n",
    "plt.xlabel(\"False Positive Rate\")\n",
    "plt.ylabel(\"True Positive Rate\")\n",
    "plt.title(\"Receiver Operating Characteristic (ROC) Curve - LSTM\")\n",
    "plt.legend()\n",
    "plt.show()\n",
    "\n",
    "# График совпадения модели при обучении\n",
    "plt.figure(figsize=(8, 6))\n",
    "plt.plot(y_test_lstm, label=\"True Values\")\n",
    "plt.plot(y_pred_lstm, label=\"Predicted Values\")\n",
    "plt.xlabel(\"Samples\")\n",
    "plt.ylabel(\"Values\")\n",
    "plt.title(\"Model Prediction vs True Values - LSTM\")\n",
    "plt.legend()\n",
    "plt.show()"
   ]
  },
  {
   "cell_type": "code",
   "execution_count": null,
   "metadata": {},
   "outputs": [],
   "source": [
    "# Выбор клинических показателей для создания композитного индекса\n",
    "selected_columns = [\"HR\", \"O2Sat\", \"Temp\", \"MAP\", \"Resp\"]"
   ]
  },
  {
   "cell_type": "code",
   "execution_count": null,
   "metadata": {},
   "outputs": [],
   "source": [
    "# Создание композитного индекса\n",
    "composite_index = df[selected_columns].mean(axis=1)"
   ]
  },
  {
   "cell_type": "code",
   "execution_count": null,
   "metadata": {},
   "outputs": [],
   "source": [
    "# Добавление композитного индекса в исходные данные\n",
    "df[\"CompositeIndex\"] = composite_index"
   ]
  },
  {
   "cell_type": "code",
   "execution_count": null,
   "metadata": {},
   "outputs": [],
   "source": [
    "# Проверка результатов\n",
    "print(df.head())"
   ]
  },
  {
   "cell_type": "code",
   "execution_count": null,
   "metadata": {},
   "outputs": [],
   "source": [
    "from sklearn.linear_model import LinearRegression\n",
    "from sklearn.metrics import mean_squared_error\n",
    "from sklearn.model_selection import train_test_split\n",
    "from sklearn.preprocessing import StandardScaler"
   ]
  },
  {
   "cell_type": "code",
   "execution_count": null,
   "metadata": {},
   "outputs": [],
   "source": [
    "# Определение признаков и целевой переменной\n",
    "features = [\"HR\", \"MAP\", \"O2Sat\", \"Temp\"]\n",
    "target = \"CompositeIndex\""
   ]
  },
  {
   "cell_type": "code",
   "execution_count": null,
   "metadata": {},
   "outputs": [],
   "source": [
    "X = df[features]\n",
    "y = df[target]\n",
    "X_train, X_test, y_train, y_test = train_test_split(\n",
    "    X, y, test_size=0.2, random_state=42\n",
    ")"
   ]
  },
  {
   "cell_type": "code",
   "execution_count": null,
   "metadata": {},
   "outputs": [],
   "source": [
    "# Масштабирование признаков\n",
    "scaler = StandardScaler()\n",
    "X_train_scaled = scaler.fit_transform(X_train)\n",
    "X_test_scaled = scaler.transform(X_test)"
   ]
  },
  {
   "cell_type": "code",
   "execution_count": null,
   "metadata": {},
   "outputs": [],
   "source": [
    "# Обучение модели линейной регрессии\n",
    "model = LinearRegression()\n",
    "model.fit(X_train_scaled, y_train)"
   ]
  },
  {
   "cell_type": "code",
   "execution_count": null,
   "metadata": {},
   "outputs": [],
   "source": [
    "# Предсказание на тестовом наборе\n",
    "y_pred = model.predict(X_test_scaled)"
   ]
  },
  {
   "cell_type": "code",
   "execution_count": null,
   "metadata": {},
   "outputs": [],
   "source": [
    "# Оценка качества модели\n",
    "mse = mean_squared_error(y_test, y_pred)\n",
    "print(\"Mean Squared Error:\", mse)"
   ]
  },
  {
   "cell_type": "code",
   "execution_count": null,
   "metadata": {},
   "outputs": [],
   "source": [
    "# Вычисление средней абсолютной ошибки (MAE)\n",
    "mae = mean_absolute_error(y_test, y_pred)\n",
    "print(\"Mean Absolute Error:\", mae)\n",
    "\n",
    "# Вычисление коэффициента детерминации (R^2)\n",
    "r2 = r2_score(y_test, y_pred)\n",
    "print(\"R^2 Score:\", r2)"
   ]
  }
 ],
 "metadata": {
  "language_info": {
   "name": "python"
  }
 },
 "nbformat": 4,
 "nbformat_minor": 2
}
